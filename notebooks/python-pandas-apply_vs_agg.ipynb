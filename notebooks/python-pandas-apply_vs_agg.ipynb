{
 "cells": [
  {
   "cell_type": "markdown",
   "metadata": {},
   "source": [
    "# Apply vs. Agg\n",
    "_Notebook prepared by: Jessa Rili-Migriño ([LinkedIn](https://www.linkedin.com/in/jessa-rili-migrino))_\n",
    "\n",
    "The objective for this notebook is to discern the difference between `.apply()` and `.agg()` through examples.\n",
    "Comparisons will be made in terms of performance, implementation complexity, and flexibility."
   ]
  },
  {
   "cell_type": "markdown",
   "metadata": {},
   "source": [
    "# TL;DR\n",
    "| Aspect              | Apply            | Agg              |\n",
    "| ------------------- | ---------------- | ---------------- |\n",
    "| Performance<br>(Speed and Optimization) | ❌Generally slower | ✅Generally faster |\n",
    "| Application of multiple functions per column | ✅Allowed only on DataFrame,<br>❌Not allowed on GroupBy | ✅Allowed |\n",
    "| Function return value | ✅Accepts functions with return types of any shape (scalar, DataFrame, Series) | ❌Only functions that return scalar values are allowed |\n",
    "| Custom logic operating on multiple columns | ✅Intuitive implementation<br>❌But slow | ❌Relatively complex implementation<br>✅But faster | "
   ]
  },
  {
   "cell_type": "markdown",
   "metadata": {},
   "source": [
    "First do the necessary imports and define a function `range()` we can use as input to `agg` and `apply`."
   ]
  },
  {
   "cell_type": "code",
   "execution_count": 160,
   "metadata": {},
   "outputs": [],
   "source": [
    "import pandas as pd"
   ]
  },
  {
   "cell_type": "code",
   "execution_count": 161,
   "metadata": {},
   "outputs": [],
   "source": [
    "def range(column):\n",
    "    return column.max() - column.min()"
   ]
  },
  {
   "cell_type": "markdown",
   "metadata": {},
   "source": [
    "# When applied to a DataFrame\n",
    "Docs:\n",
    "* [pandas.DataFrame.agg()](https://pandas.pydata.org/docs/reference/api/pandas.DataFrame.agg.html)\n",
    "* [pandas.DataFrame.apply()](https://pandas.pydata.org/docs/reference/api/pandas.DataFrame.apply.html)"
   ]
  },
  {
   "cell_type": "markdown",
   "metadata": {},
   "source": [
    "First let's define a `sales` dataframe that will be used for examples:"
   ]
  },
  {
   "cell_type": "code",
   "execution_count": null,
   "metadata": {},
   "outputs": [
    {
     "data": {
      "text/html": [
       "<div>\n",
       "<style scoped>\n",
       "    .dataframe tbody tr th:only-of-type {\n",
       "        vertical-align: middle;\n",
       "    }\n",
       "\n",
       "    .dataframe tbody tr th {\n",
       "        vertical-align: top;\n",
       "    }\n",
       "\n",
       "    .dataframe thead th {\n",
       "        text-align: right;\n",
       "    }\n",
       "</style>\n",
       "<table border=\"1\" class=\"dataframe\">\n",
       "  <thead>\n",
       "    <tr style=\"text-align: right;\">\n",
       "      <th></th>\n",
       "      <th>date</th>\n",
       "      <th>product_line</th>\n",
       "      <th>product</th>\n",
       "      <th>unit_price</th>\n",
       "      <th>quantity</th>\n",
       "    </tr>\n",
       "  </thead>\n",
       "  <tbody>\n",
       "    <tr>\n",
       "      <th>0</th>\n",
       "      <td>2018-01-15</td>\n",
       "      <td>Health and beauty</td>\n",
       "      <td>Shampoo</td>\n",
       "      <td>6.99</td>\n",
       "      <td>7</td>\n",
       "    </tr>\n",
       "    <tr>\n",
       "      <th>1</th>\n",
       "      <td>2018-01-18</td>\n",
       "      <td>Health and beauty</td>\n",
       "      <td>Conditioner</td>\n",
       "      <td>8.99</td>\n",
       "      <td>4</td>\n",
       "    </tr>\n",
       "    <tr>\n",
       "      <th>2</th>\n",
       "      <td>2018-01-20</td>\n",
       "      <td>Health and beauty</td>\n",
       "      <td>Body Wash</td>\n",
       "      <td>9.50</td>\n",
       "      <td>6</td>\n",
       "    </tr>\n",
       "    <tr>\n",
       "      <th>3</th>\n",
       "      <td>2018-01-15</td>\n",
       "      <td>Electronic accessories</td>\n",
       "      <td>Headphones</td>\n",
       "      <td>25.28</td>\n",
       "      <td>5</td>\n",
       "    </tr>\n",
       "    <tr>\n",
       "      <th>4</th>\n",
       "      <td>2018-01-19</td>\n",
       "      <td>Electronic accessories</td>\n",
       "      <td>Charger</td>\n",
       "      <td>15.75</td>\n",
       "      <td>8</td>\n",
       "    </tr>\n",
       "    <tr>\n",
       "      <th>5</th>\n",
       "      <td>2018-01-16</td>\n",
       "      <td>Home and lifestyle</td>\n",
       "      <td>Lamp</td>\n",
       "      <td>46.33</td>\n",
       "      <td>3</td>\n",
       "    </tr>\n",
       "    <tr>\n",
       "      <th>6</th>\n",
       "      <td>2018-01-19</td>\n",
       "      <td>Home and lifestyle</td>\n",
       "      <td>Curtains</td>\n",
       "      <td>22.00</td>\n",
       "      <td>5</td>\n",
       "    </tr>\n",
       "    <tr>\n",
       "      <th>7</th>\n",
       "      <td>2018-01-16</td>\n",
       "      <td>Sports</td>\n",
       "      <td>Yoga mat</td>\n",
       "      <td>39.99</td>\n",
       "      <td>5</td>\n",
       "    </tr>\n",
       "    <tr>\n",
       "      <th>8</th>\n",
       "      <td>2018-01-18</td>\n",
       "      <td>Sports</td>\n",
       "      <td>Dumbbells</td>\n",
       "      <td>30.00</td>\n",
       "      <td>4</td>\n",
       "    </tr>\n",
       "    <tr>\n",
       "      <th>9</th>\n",
       "      <td>2018-01-17</td>\n",
       "      <td>Food and beverages</td>\n",
       "      <td>Milk</td>\n",
       "      <td>5.99</td>\n",
       "      <td>8</td>\n",
       "    </tr>\n",
       "    <tr>\n",
       "      <th>10</th>\n",
       "      <td>2018-01-20</td>\n",
       "      <td>Food and beverages</td>\n",
       "      <td>Bread</td>\n",
       "      <td>3.49</td>\n",
       "      <td>10</td>\n",
       "    </tr>\n",
       "  </tbody>\n",
       "</table>\n",
       "</div>"
      ],
      "text/plain": [
       "          date            product_line      product  unit_price  quantity\n",
       "0   2018-01-15       Health and beauty      Shampoo        6.99         7\n",
       "1   2018-01-18       Health and beauty  Conditioner        8.99         4\n",
       "2   2018-01-20       Health and beauty    Body Wash        9.50         6\n",
       "3   2018-01-15  Electronic accessories   Headphones       25.28         5\n",
       "4   2018-01-19  Electronic accessories      Charger       15.75         8\n",
       "5   2018-01-16      Home and lifestyle         Lamp       46.33         3\n",
       "6   2018-01-19      Home and lifestyle     Curtains       22.00         5\n",
       "7   2018-01-16                  Sports     Yoga mat       39.99         5\n",
       "8   2018-01-18                  Sports    Dumbbells       30.00         4\n",
       "9   2018-01-17      Food and beverages         Milk        5.99         8\n",
       "10  2018-01-20      Food and beverages        Bread        3.49        10"
      ]
     },
     "execution_count": 162,
     "metadata": {},
     "output_type": "execute_result"
    }
   ],
   "source": [
    "sales = pd.DataFrame([\n",
    "    # Health and beauty\n",
    "    {\"date\": \"2018-01-15\", \"product_line\": \"Health and beauty\", \"product\": \"Shampoo\", \"unit_price\": 6.99, \"quantity\": 7},\n",
    "    {\"date\": \"2018-01-18\", \"product_line\": \"Health and beauty\", \"product\": \"Conditioner\", \"unit_price\": 8.99, \"quantity\": 4},\n",
    "    {\"date\": \"2018-01-20\", \"product_line\": \"Health and beauty\", \"product\": \"Body Wash\", \"unit_price\": 9.50, \"quantity\": 6},\n",
    "\n",
    "    # Electronic accessories\n",
    "    {\"date\": \"2018-01-15\", \"product_line\": \"Electronic accessories\", \"product\": \"Headphones\", \"unit_price\": 25.28, \"quantity\": 5},\n",
    "    {\"date\": \"2018-01-19\", \"product_line\": \"Electronic accessories\", \"product\": \"Charger\", \"unit_price\": 15.75, \"quantity\": 8},\n",
    "\n",
    "    # Home and lifestyle\n",
    "    {\"date\": \"2018-01-16\", \"product_line\": \"Home and lifestyle\", \"product\": \"Lamp\", \"unit_price\": 46.33, \"quantity\": 3},\n",
    "    {\"date\": \"2018-01-19\", \"product_line\": \"Home and lifestyle\", \"product\": \"Curtains\", \"unit_price\": 22.00, \"quantity\": 5},\n",
    "\n",
    "    # Sports\n",
    "    {\"date\": \"2018-01-16\", \"product_line\": \"Sports\", \"product\": \"Yoga mat\", \"unit_price\": 39.99, \"quantity\": 5},\n",
    "    {\"date\": \"2018-01-18\", \"product_line\": \"Sports\", \"product\": \"Dumbbells\", \"unit_price\": 30.00, \"quantity\": 4},\n",
    "\n",
    "    # Food and beverages\n",
    "    {\"date\": \"2018-01-17\", \"product_line\": \"Food and beverages\", \"product\": \"Milk\", \"unit_price\": 5.99, \"quantity\": 8},\n",
    "    {\"date\": \"2018-01-20\", \"product_line\": \"Food and beverages\", \"product\": \"Bread\", \"unit_price\": 3.49, \"quantity\": 10}\n",
    "])\n",
    "\n",
    "sales"
   ]
  },
  {
   "cell_type": "markdown",
   "metadata": {},
   "source": [
    "## Single Function\n",
    "Let's try first passing the `range` function to both `apply` and `agg`"
   ]
  },
  {
   "cell_type": "code",
   "execution_count": 163,
   "metadata": {},
   "outputs": [
    {
     "name": "stdout",
     "output_type": "stream",
     "text": [
      "<class 'pandas.core.series.Series'>\n"
     ]
    },
    {
     "data": {
      "text/plain": [
       "unit_price    42.84\n",
       "quantity       7.00\n",
       "dtype: float64"
      ]
     },
     "execution_count": 163,
     "metadata": {},
     "output_type": "execute_result"
    }
   ],
   "source": [
    "df = sales[['unit_price', 'quantity']].apply(range)\n",
    "\n",
    "print(type(df))\n",
    "df"
   ]
  },
  {
   "cell_type": "code",
   "execution_count": 164,
   "metadata": {},
   "outputs": [
    {
     "name": "stdout",
     "output_type": "stream",
     "text": [
      "<class 'pandas.core.series.Series'>\n"
     ]
    },
    {
     "data": {
      "text/plain": [
       "unit_price    42.84\n",
       "quantity       7.00\n",
       "dtype: float64"
      ]
     },
     "execution_count": 164,
     "metadata": {},
     "output_type": "execute_result"
    }
   ],
   "source": [
    "sales[['unit_price', 'quantity']].agg(range)\n",
    "\n",
    "print(type(df))\n",
    "df"
   ]
  },
  {
   "cell_type": "markdown",
   "metadata": {},
   "source": [
    "When applied directly to a dataframe's columns, the output is the same. But what about speed? Let's use `%timeit` magic below:"
   ]
  },
  {
   "cell_type": "code",
   "execution_count": 165,
   "metadata": {},
   "outputs": [
    {
     "name": "stdout",
     "output_type": "stream",
     "text": [
      "750 μs ± 14.8 μs per loop (mean ± std. dev. of 7 runs, 1,000 loops each)\n"
     ]
    }
   ],
   "source": [
    "%timeit sales[['unit_price', 'quantity']].apply(range)"
   ]
  },
  {
   "cell_type": "code",
   "execution_count": 166,
   "metadata": {},
   "outputs": [
    {
     "name": "stdout",
     "output_type": "stream",
     "text": [
      "740 μs ± 12.1 μs per loop (mean ± std. dev. of 7 runs, 1,000 loops each)\n"
     ]
    }
   ],
   "source": [
    "%timeit sales[['unit_price', 'quantity']].agg(range)"
   ]
  },
  {
   "cell_type": "markdown",
   "metadata": {},
   "source": [
    "We see then that `apply()` seems to run faster than `agg()` when applied to dataframes."
   ]
  },
  {
   "cell_type": "markdown",
   "metadata": {},
   "source": [
    "## Multiple Functions"
   ]
  },
  {
   "cell_type": "markdown",
   "metadata": {},
   "source": [
    "How about using multiple callable functions?\n",
    "The [pandas.DataFrame.agg](https://pandas.pydata.org/docs/reference/api/pandas.DataFrame.agg.html#pandas-dataframe-agg) docs explicitly states that we can in put a list of callable functions to do this:"
   ]
  },
  {
   "cell_type": "code",
   "execution_count": 167,
   "metadata": {},
   "outputs": [
    {
     "name": "stdout",
     "output_type": "stream",
     "text": [
      "<class 'pandas.core.frame.DataFrame'>\n"
     ]
    },
    {
     "data": {
      "text/html": [
       "<div>\n",
       "<style scoped>\n",
       "    .dataframe tbody tr th:only-of-type {\n",
       "        vertical-align: middle;\n",
       "    }\n",
       "\n",
       "    .dataframe tbody tr th {\n",
       "        vertical-align: top;\n",
       "    }\n",
       "\n",
       "    .dataframe thead th {\n",
       "        text-align: right;\n",
       "    }\n",
       "</style>\n",
       "<table border=\"1\" class=\"dataframe\">\n",
       "  <thead>\n",
       "    <tr style=\"text-align: right;\">\n",
       "      <th></th>\n",
       "      <th>unit_price</th>\n",
       "      <th>quantity</th>\n",
       "    </tr>\n",
       "  </thead>\n",
       "  <tbody>\n",
       "    <tr>\n",
       "      <th>range</th>\n",
       "      <td>42.84</td>\n",
       "      <td>7</td>\n",
       "    </tr>\n",
       "    <tr>\n",
       "      <th>min</th>\n",
       "      <td>3.49</td>\n",
       "      <td>3</td>\n",
       "    </tr>\n",
       "    <tr>\n",
       "      <th>max</th>\n",
       "      <td>46.33</td>\n",
       "      <td>10</td>\n",
       "    </tr>\n",
       "  </tbody>\n",
       "</table>\n",
       "</div>"
      ],
      "text/plain": [
       "       unit_price  quantity\n",
       "range       42.84         7\n",
       "min          3.49         3\n",
       "max         46.33        10"
      ]
     },
     "execution_count": 167,
     "metadata": {},
     "output_type": "execute_result"
    }
   ],
   "source": [
    "df = sales[['unit_price', 'quantity']].agg([range, 'min', 'max'])\n",
    "\n",
    "print(type(df))\n",
    "df"
   ]
  },
  {
   "cell_type": "markdown",
   "metadata": {},
   "source": [
    "According to the [pandas.DataFrame.apply](https://pandas.pydata.org/docs/reference/api/pandas.DataFrame.apply.html#pandas-dataframe-apply) docs (pandas 2.2), `apply()` can only accept a single function.\n",
    "Let's try:"
   ]
  },
  {
   "cell_type": "code",
   "execution_count": 168,
   "metadata": {},
   "outputs": [
    {
     "name": "stdout",
     "output_type": "stream",
     "text": [
      "<class 'pandas.core.frame.DataFrame'>\n"
     ]
    },
    {
     "data": {
      "text/html": [
       "<div>\n",
       "<style scoped>\n",
       "    .dataframe tbody tr th:only-of-type {\n",
       "        vertical-align: middle;\n",
       "    }\n",
       "\n",
       "    .dataframe tbody tr th {\n",
       "        vertical-align: top;\n",
       "    }\n",
       "\n",
       "    .dataframe thead th {\n",
       "        text-align: right;\n",
       "    }\n",
       "</style>\n",
       "<table border=\"1\" class=\"dataframe\">\n",
       "  <thead>\n",
       "    <tr style=\"text-align: right;\">\n",
       "      <th></th>\n",
       "      <th>unit_price</th>\n",
       "      <th>quantity</th>\n",
       "    </tr>\n",
       "  </thead>\n",
       "  <tbody>\n",
       "    <tr>\n",
       "      <th>range</th>\n",
       "      <td>42.84</td>\n",
       "      <td>7</td>\n",
       "    </tr>\n",
       "    <tr>\n",
       "      <th>min</th>\n",
       "      <td>3.49</td>\n",
       "      <td>3</td>\n",
       "    </tr>\n",
       "    <tr>\n",
       "      <th>max</th>\n",
       "      <td>46.33</td>\n",
       "      <td>10</td>\n",
       "    </tr>\n",
       "  </tbody>\n",
       "</table>\n",
       "</div>"
      ],
      "text/plain": [
       "       unit_price  quantity\n",
       "range       42.84         7\n",
       "min          3.49         3\n",
       "max         46.33        10"
      ]
     },
     "execution_count": 168,
     "metadata": {},
     "output_type": "execute_result"
    }
   ],
   "source": [
    "df = sales[['unit_price', 'quantity']].apply([range, 'min', 'max'])\n",
    "\n",
    "print(type(df))\n",
    "df"
   ]
  },
  {
   "cell_type": "markdown",
   "metadata": {},
   "source": [
    "Using multiple functions worked with `apply` (as of pandas 2.2.3) and has the same output as `agg`.\n",
    "How about processing time?"
   ]
  },
  {
   "cell_type": "code",
   "execution_count": 178,
   "metadata": {},
   "outputs": [
    {
     "name": "stdout",
     "output_type": "stream",
     "text": [
      "2.12 ms ± 257 μs per loop (mean ± std. dev. of 7 runs, 100 loops each)\n"
     ]
    }
   ],
   "source": [
    "%timeit sales[['unit_price', 'quantity']].apply([range, 'min', 'max'])"
   ]
  },
  {
   "cell_type": "code",
   "execution_count": 179,
   "metadata": {},
   "outputs": [
    {
     "name": "stdout",
     "output_type": "stream",
     "text": [
      "1.87 ms ± 7.58 μs per loop (mean ± std. dev. of 7 runs, 1,000 loops each)\n"
     ]
    }
   ],
   "source": [
    "%timeit sales[['unit_price', 'quantity']].agg([range, 'min', 'max'])"
   ]
  },
  {
   "cell_type": "markdown",
   "metadata": {},
   "source": [
    "We see that `agg()` ran slightly faster to produce the same output on DataFrame objects than `apply()` with multiple functions."
   ]
  },
  {
   "cell_type": "markdown",
   "metadata": {},
   "source": [
    "# Applied to Groupby object"
   ]
  },
  {
   "cell_type": "markdown",
   "metadata": {},
   "source": [
    "Docs:\n",
    "* [pandas.groupby.DataFrameGroupBy.apply](https://pandas.pydata.org/docs/reference/api/pandas.core.groupby.DataFrameGroupBy.apply.html#pandas-core-groupby-dataframegroupby-apply)\n",
    "* [pandas.groupby.DataFrameGroupBy.agg](https://pandas.pydata.org/docs/reference/api/pandas.core.groupby.DataFrameGroupBy.agg.html#pandas-core-groupby-dataframegroupby-agg)\n",
    "\n",
    "Let's try using `apply` and `agg` on GroupBy objects next."
   ]
  },
  {
   "cell_type": "markdown",
   "metadata": {},
   "source": [
    "## Single Function"
   ]
  },
  {
   "cell_type": "code",
   "execution_count": 171,
   "metadata": {},
   "outputs": [
    {
     "name": "stdout",
     "output_type": "stream",
     "text": [
      "<class 'pandas.core.frame.DataFrame'>\n"
     ]
    },
    {
     "data": {
      "text/html": [
       "<div>\n",
       "<style scoped>\n",
       "    .dataframe tbody tr th:only-of-type {\n",
       "        vertical-align: middle;\n",
       "    }\n",
       "\n",
       "    .dataframe tbody tr th {\n",
       "        vertical-align: top;\n",
       "    }\n",
       "\n",
       "    .dataframe thead th {\n",
       "        text-align: right;\n",
       "    }\n",
       "</style>\n",
       "<table border=\"1\" class=\"dataframe\">\n",
       "  <thead>\n",
       "    <tr style=\"text-align: right;\">\n",
       "      <th></th>\n",
       "      <th>unit_price</th>\n",
       "      <th>quantity</th>\n",
       "    </tr>\n",
       "    <tr>\n",
       "      <th>product_line</th>\n",
       "      <th></th>\n",
       "      <th></th>\n",
       "    </tr>\n",
       "  </thead>\n",
       "  <tbody>\n",
       "    <tr>\n",
       "      <th>Electronic accessories</th>\n",
       "      <td>41.03</td>\n",
       "      <td>13</td>\n",
       "    </tr>\n",
       "    <tr>\n",
       "      <th>Food and beverages</th>\n",
       "      <td>9.48</td>\n",
       "      <td>18</td>\n",
       "    </tr>\n",
       "    <tr>\n",
       "      <th>Health and beauty</th>\n",
       "      <td>25.48</td>\n",
       "      <td>17</td>\n",
       "    </tr>\n",
       "    <tr>\n",
       "      <th>Home and lifestyle</th>\n",
       "      <td>68.33</td>\n",
       "      <td>8</td>\n",
       "    </tr>\n",
       "    <tr>\n",
       "      <th>Sports</th>\n",
       "      <td>69.99</td>\n",
       "      <td>9</td>\n",
       "    </tr>\n",
       "  </tbody>\n",
       "</table>\n",
       "</div>"
      ],
      "text/plain": [
       "                        unit_price  quantity\n",
       "product_line                                \n",
       "Electronic accessories       41.03        13\n",
       "Food and beverages            9.48        18\n",
       "Health and beauty            25.48        17\n",
       "Home and lifestyle           68.33         8\n",
       "Sports                       69.99         9"
      ]
     },
     "execution_count": 171,
     "metadata": {},
     "output_type": "execute_result"
    }
   ],
   "source": [
    "df = sales.groupby(by='product_line')[['unit_price', 'quantity']].apply('sum')\n",
    "\n",
    "print(type(df))\n",
    "df"
   ]
  },
  {
   "cell_type": "code",
   "execution_count": 172,
   "metadata": {},
   "outputs": [
    {
     "name": "stdout",
     "output_type": "stream",
     "text": [
      "<class 'pandas.core.frame.DataFrame'>\n"
     ]
    },
    {
     "data": {
      "text/html": [
       "<div>\n",
       "<style scoped>\n",
       "    .dataframe tbody tr th:only-of-type {\n",
       "        vertical-align: middle;\n",
       "    }\n",
       "\n",
       "    .dataframe tbody tr th {\n",
       "        vertical-align: top;\n",
       "    }\n",
       "\n",
       "    .dataframe thead th {\n",
       "        text-align: right;\n",
       "    }\n",
       "</style>\n",
       "<table border=\"1\" class=\"dataframe\">\n",
       "  <thead>\n",
       "    <tr style=\"text-align: right;\">\n",
       "      <th></th>\n",
       "      <th>unit_price</th>\n",
       "      <th>quantity</th>\n",
       "    </tr>\n",
       "    <tr>\n",
       "      <th>product_line</th>\n",
       "      <th></th>\n",
       "      <th></th>\n",
       "    </tr>\n",
       "  </thead>\n",
       "  <tbody>\n",
       "    <tr>\n",
       "      <th>Electronic accessories</th>\n",
       "      <td>41.03</td>\n",
       "      <td>13</td>\n",
       "    </tr>\n",
       "    <tr>\n",
       "      <th>Food and beverages</th>\n",
       "      <td>9.48</td>\n",
       "      <td>18</td>\n",
       "    </tr>\n",
       "    <tr>\n",
       "      <th>Health and beauty</th>\n",
       "      <td>25.48</td>\n",
       "      <td>17</td>\n",
       "    </tr>\n",
       "    <tr>\n",
       "      <th>Home and lifestyle</th>\n",
       "      <td>68.33</td>\n",
       "      <td>8</td>\n",
       "    </tr>\n",
       "    <tr>\n",
       "      <th>Sports</th>\n",
       "      <td>69.99</td>\n",
       "      <td>9</td>\n",
       "    </tr>\n",
       "  </tbody>\n",
       "</table>\n",
       "</div>"
      ],
      "text/plain": [
       "                        unit_price  quantity\n",
       "product_line                                \n",
       "Electronic accessories       41.03        13\n",
       "Food and beverages            9.48        18\n",
       "Health and beauty            25.48        17\n",
       "Home and lifestyle           68.33         8\n",
       "Sports                       69.99         9"
      ]
     },
     "execution_count": 172,
     "metadata": {},
     "output_type": "execute_result"
    }
   ],
   "source": [
    "df = sales.groupby(by='product_line')[['unit_price', 'quantity']].agg('sum')\n",
    "\n",
    "print(type(df))\n",
    "df"
   ]
  },
  {
   "cell_type": "markdown",
   "metadata": {},
   "source": [
    "Checking the processing time again:"
   ]
  },
  {
   "cell_type": "code",
   "execution_count": 182,
   "metadata": {},
   "outputs": [
    {
     "name": "stdout",
     "output_type": "stream",
     "text": [
      "811 μs ± 28.8 μs per loop (mean ± std. dev. of 7 runs, 1,000 loops each)\n"
     ]
    }
   ],
   "source": [
    "%timeit df = sales.groupby(by='product_line')[['unit_price', 'quantity']].apply('sum')"
   ]
  },
  {
   "cell_type": "code",
   "execution_count": 183,
   "metadata": {},
   "outputs": [
    {
     "name": "stdout",
     "output_type": "stream",
     "text": [
      "863 μs ± 9.86 μs per loop (mean ± std. dev. of 7 runs, 1,000 loops each)\n"
     ]
    }
   ],
   "source": [
    "%timeit df = sales.groupby(by='product_line')[['unit_price', 'quantity']].agg('sum')"
   ]
  },
  {
   "cell_type": "markdown",
   "metadata": {},
   "source": [
    "We see that `apply` still runs slightly faster than `groupby` when applying a single function even on a GroupBy object."
   ]
  },
  {
   "cell_type": "markdown",
   "metadata": {},
   "source": [
    "## Multiple Functions"
   ]
  },
  {
   "cell_type": "markdown",
   "metadata": {},
   "source": [
    "If we try to use multiple functions with `apply()` applied to a GroupBy object,\n",
    "we see that it results in an error because multipe functions are not accepted by `apply()`."
   ]
  },
  {
   "cell_type": "code",
   "execution_count": 175,
   "metadata": {},
   "outputs": [
    {
     "ename": "TypeError",
     "evalue": "unhashable type: 'list'",
     "output_type": "error",
     "traceback": [
      "\u001b[1;31m---------------------------------------------------------------------------\u001b[0m",
      "\u001b[1;31mTypeError\u001b[0m                                 Traceback (most recent call last)",
      "Cell \u001b[1;32mIn[175], line 1\u001b[0m\n\u001b[1;32m----> 1\u001b[0m \u001b[43msales\u001b[49m\u001b[38;5;241;43m.\u001b[39;49m\u001b[43mgroupby\u001b[49m\u001b[43m(\u001b[49m\u001b[43mby\u001b[49m\u001b[38;5;241;43m=\u001b[39;49m\u001b[38;5;124;43m'\u001b[39;49m\u001b[38;5;124;43mproduct_line\u001b[39;49m\u001b[38;5;124;43m'\u001b[39;49m\u001b[43m)\u001b[49m\u001b[43m[\u001b[49m\u001b[43m[\u001b[49m\u001b[38;5;124;43m'\u001b[39;49m\u001b[38;5;124;43munit_price\u001b[39;49m\u001b[38;5;124;43m'\u001b[39;49m\u001b[43m,\u001b[49m\u001b[43m \u001b[49m\u001b[38;5;124;43m'\u001b[39;49m\u001b[38;5;124;43mquantity\u001b[39;49m\u001b[38;5;124;43m'\u001b[39;49m\u001b[43m]\u001b[49m\u001b[43m]\u001b[49m\u001b[38;5;241;43m.\u001b[39;49m\u001b[43mapply\u001b[49m\u001b[43m(\u001b[49m\u001b[43m[\u001b[49m\u001b[38;5;28;43mrange\u001b[39;49m\u001b[43m,\u001b[49m\u001b[43m \u001b[49m\u001b[38;5;124;43m'\u001b[39;49m\u001b[38;5;124;43mmin\u001b[39;49m\u001b[38;5;124;43m'\u001b[39;49m\u001b[43m,\u001b[49m\u001b[43m \u001b[49m\u001b[38;5;124;43m'\u001b[39;49m\u001b[38;5;124;43mmax\u001b[39;49m\u001b[38;5;124;43m'\u001b[39;49m\u001b[43m,\u001b[49m\u001b[43m \u001b[49m\u001b[38;5;124;43m'\u001b[39;49m\u001b[38;5;124;43msum\u001b[39;49m\u001b[38;5;124;43m'\u001b[39;49m\u001b[43m]\u001b[49m\u001b[43m)\u001b[49m\n",
      "File \u001b[1;32mc:\\Users\\jfmri\\AppData\\Local\\Programs\\Python\\Python313\\Lib\\site-packages\\pandas\\core\\groupby\\groupby.py:1787\u001b[0m, in \u001b[0;36mGroupBy.apply\u001b[1;34m(self, func, include_groups, *args, **kwargs)\u001b[0m\n\u001b[0;32m   1780\u001b[0m \u001b[38;5;129m@Appender\u001b[39m(\n\u001b[0;32m   1781\u001b[0m     _apply_docs[\u001b[38;5;124m\"\u001b[39m\u001b[38;5;124mtemplate\u001b[39m\u001b[38;5;124m\"\u001b[39m]\u001b[38;5;241m.\u001b[39mformat(\n\u001b[0;32m   1782\u001b[0m         \u001b[38;5;28minput\u001b[39m\u001b[38;5;241m=\u001b[39m\u001b[38;5;124m\"\u001b[39m\u001b[38;5;124mdataframe\u001b[39m\u001b[38;5;124m\"\u001b[39m, examples\u001b[38;5;241m=\u001b[39m_apply_docs[\u001b[38;5;124m\"\u001b[39m\u001b[38;5;124mdataframe_examples\u001b[39m\u001b[38;5;124m\"\u001b[39m]\n\u001b[0;32m   1783\u001b[0m     )\n\u001b[0;32m   1784\u001b[0m )\n\u001b[0;32m   1785\u001b[0m \u001b[38;5;28;01mdef\u001b[39;00m \u001b[38;5;21mapply\u001b[39m(\u001b[38;5;28mself\u001b[39m, func, \u001b[38;5;241m*\u001b[39margs, include_groups: \u001b[38;5;28mbool\u001b[39m \u001b[38;5;241m=\u001b[39m \u001b[38;5;28;01mTrue\u001b[39;00m, \u001b[38;5;241m*\u001b[39m\u001b[38;5;241m*\u001b[39mkwargs) \u001b[38;5;241m-\u001b[39m\u001b[38;5;241m>\u001b[39m NDFrameT:\n\u001b[0;32m   1786\u001b[0m     orig_func \u001b[38;5;241m=\u001b[39m func\n\u001b[1;32m-> 1787\u001b[0m     func \u001b[38;5;241m=\u001b[39m \u001b[43mcom\u001b[49m\u001b[38;5;241;43m.\u001b[39;49m\u001b[43mis_builtin_func\u001b[49m\u001b[43m(\u001b[49m\u001b[43mfunc\u001b[49m\u001b[43m)\u001b[49m\n\u001b[0;32m   1788\u001b[0m     \u001b[38;5;28;01mif\u001b[39;00m orig_func \u001b[38;5;241m!=\u001b[39m func:\n\u001b[0;32m   1789\u001b[0m         alias \u001b[38;5;241m=\u001b[39m com\u001b[38;5;241m.\u001b[39m_builtin_table_alias[orig_func]\n",
      "File \u001b[1;32mc:\\Users\\jfmri\\AppData\\Local\\Programs\\Python\\Python313\\Lib\\site-packages\\pandas\\core\\common.py:638\u001b[0m, in \u001b[0;36mis_builtin_func\u001b[1;34m(arg)\u001b[0m\n\u001b[0;32m    633\u001b[0m \u001b[38;5;28;01mdef\u001b[39;00m \u001b[38;5;21mis_builtin_func\u001b[39m(arg):\n\u001b[0;32m    634\u001b[0m \u001b[38;5;250m    \u001b[39m\u001b[38;5;124;03m\"\"\"\u001b[39;00m\n\u001b[0;32m    635\u001b[0m \u001b[38;5;124;03m    if we define a builtin function for this argument, return it,\u001b[39;00m\n\u001b[0;32m    636\u001b[0m \u001b[38;5;124;03m    otherwise return the arg\u001b[39;00m\n\u001b[0;32m    637\u001b[0m \u001b[38;5;124;03m    \"\"\"\u001b[39;00m\n\u001b[1;32m--> 638\u001b[0m     \u001b[38;5;28;01mreturn\u001b[39;00m \u001b[43m_builtin_table\u001b[49m\u001b[38;5;241;43m.\u001b[39;49m\u001b[43mget\u001b[49m\u001b[43m(\u001b[49m\u001b[43marg\u001b[49m\u001b[43m,\u001b[49m\u001b[43m \u001b[49m\u001b[43marg\u001b[49m\u001b[43m)\u001b[49m\n",
      "\u001b[1;31mTypeError\u001b[0m: unhashable type: 'list'"
     ]
    }
   ],
   "source": [
    "sales.groupby(by='product_line')[['unit_price', 'quantity']].apply([range, 'min', 'max', 'sum'])"
   ]
  },
  {
   "cell_type": "markdown",
   "metadata": {},
   "source": [
    "Meanwhile, `agg` is able to produce a multi-level dataframe output like so:"
   ]
  },
  {
   "cell_type": "code",
   "execution_count": 184,
   "metadata": {},
   "outputs": [
    {
     "name": "stdout",
     "output_type": "stream",
     "text": [
      "<class 'pandas.core.frame.DataFrame'>\n"
     ]
    },
    {
     "data": {
      "text/html": [
       "<div>\n",
       "<style scoped>\n",
       "    .dataframe tbody tr th:only-of-type {\n",
       "        vertical-align: middle;\n",
       "    }\n",
       "\n",
       "    .dataframe tbody tr th {\n",
       "        vertical-align: top;\n",
       "    }\n",
       "\n",
       "    .dataframe thead tr th {\n",
       "        text-align: left;\n",
       "    }\n",
       "\n",
       "    .dataframe thead tr:last-of-type th {\n",
       "        text-align: right;\n",
       "    }\n",
       "</style>\n",
       "<table border=\"1\" class=\"dataframe\">\n",
       "  <thead>\n",
       "    <tr>\n",
       "      <th></th>\n",
       "      <th colspan=\"4\" halign=\"left\">unit_price</th>\n",
       "      <th colspan=\"4\" halign=\"left\">quantity</th>\n",
       "    </tr>\n",
       "    <tr>\n",
       "      <th></th>\n",
       "      <th>range</th>\n",
       "      <th>min</th>\n",
       "      <th>max</th>\n",
       "      <th>sum</th>\n",
       "      <th>range</th>\n",
       "      <th>min</th>\n",
       "      <th>max</th>\n",
       "      <th>sum</th>\n",
       "    </tr>\n",
       "    <tr>\n",
       "      <th>product_line</th>\n",
       "      <th></th>\n",
       "      <th></th>\n",
       "      <th></th>\n",
       "      <th></th>\n",
       "      <th></th>\n",
       "      <th></th>\n",
       "      <th></th>\n",
       "      <th></th>\n",
       "    </tr>\n",
       "  </thead>\n",
       "  <tbody>\n",
       "    <tr>\n",
       "      <th>Electronic accessories</th>\n",
       "      <td>9.53</td>\n",
       "      <td>15.75</td>\n",
       "      <td>25.28</td>\n",
       "      <td>41.03</td>\n",
       "      <td>3</td>\n",
       "      <td>5</td>\n",
       "      <td>8</td>\n",
       "      <td>13</td>\n",
       "    </tr>\n",
       "    <tr>\n",
       "      <th>Food and beverages</th>\n",
       "      <td>2.50</td>\n",
       "      <td>3.49</td>\n",
       "      <td>5.99</td>\n",
       "      <td>9.48</td>\n",
       "      <td>2</td>\n",
       "      <td>8</td>\n",
       "      <td>10</td>\n",
       "      <td>18</td>\n",
       "    </tr>\n",
       "    <tr>\n",
       "      <th>Health and beauty</th>\n",
       "      <td>2.51</td>\n",
       "      <td>6.99</td>\n",
       "      <td>9.50</td>\n",
       "      <td>25.48</td>\n",
       "      <td>3</td>\n",
       "      <td>4</td>\n",
       "      <td>7</td>\n",
       "      <td>17</td>\n",
       "    </tr>\n",
       "    <tr>\n",
       "      <th>Home and lifestyle</th>\n",
       "      <td>24.33</td>\n",
       "      <td>22.00</td>\n",
       "      <td>46.33</td>\n",
       "      <td>68.33</td>\n",
       "      <td>2</td>\n",
       "      <td>3</td>\n",
       "      <td>5</td>\n",
       "      <td>8</td>\n",
       "    </tr>\n",
       "    <tr>\n",
       "      <th>Sports</th>\n",
       "      <td>9.99</td>\n",
       "      <td>30.00</td>\n",
       "      <td>39.99</td>\n",
       "      <td>69.99</td>\n",
       "      <td>1</td>\n",
       "      <td>4</td>\n",
       "      <td>5</td>\n",
       "      <td>9</td>\n",
       "    </tr>\n",
       "  </tbody>\n",
       "</table>\n",
       "</div>"
      ],
      "text/plain": [
       "                       unit_price                      quantity            \n",
       "                            range    min    max    sum    range min max sum\n",
       "product_line                                                               \n",
       "Electronic accessories       9.53  15.75  25.28  41.03        3   5   8  13\n",
       "Food and beverages           2.50   3.49   5.99   9.48        2   8  10  18\n",
       "Health and beauty            2.51   6.99   9.50  25.48        3   4   7  17\n",
       "Home and lifestyle          24.33  22.00  46.33  68.33        2   3   5   8\n",
       "Sports                       9.99  30.00  39.99  69.99        1   4   5   9"
      ]
     },
     "execution_count": 184,
     "metadata": {},
     "output_type": "execute_result"
    }
   ],
   "source": [
    "df = sales.groupby(by='product_line')[['unit_price', 'quantity']].agg([range, 'min', 'max', 'sum'])\n",
    "\n",
    "print(type(df))\n",
    "df"
   ]
  },
  {
   "cell_type": "markdown",
   "metadata": {},
   "source": [
    "Note that all `product_line`s have equal values for each aggregation function because there is only one row for each group."
   ]
  },
  {
   "cell_type": "markdown",
   "metadata": {},
   "source": [
    "## Custom Group Summary\n",
    "Let's say we need a custom group summary that contains the ff. information:\n",
    "* cross-column summary, like `sales` = `unit_price` * `quantity`\n",
    "* summary that depends on a cross-column summary, like`product` with the biggest `sales`"
   ]
  },
  {
   "cell_type": "code",
   "execution_count": null,
   "metadata": {},
   "outputs": [],
   "source": [
    "def custom_summary(group):\n",
    "    group['sales'] = group['unit_price'] * group['quantity']\n",
    "    total_sales = group['sales'].sum()\n",
    "    top_product = group.loc[group['sales'].idxmax(), 'product']\n",
    "    return pd.Series({\n",
    "        'total_sales': total_sales,\n",
    "        'best_seller': top_product\n",
    "    })\n"
   ]
  },
  {
   "cell_type": "markdown",
   "metadata": {},
   "source": [
    "Using `apply` is intuitive and easy here:"
   ]
  },
  {
   "cell_type": "code",
   "execution_count": null,
   "metadata": {},
   "outputs": [],
   "source": [
    "df = sales.groupby(by='product_line')[['unit_price', 'quantity', 'product']].apply(custom_summary)\n",
    "\n",
    "print(type(df))\n",
    "df"
   ]
  },
  {
   "cell_type": "markdown",
   "metadata": {},
   "source": [
    "However if try to pass `custom_summary` into `agg`, we encounter an error. This is because `agg`:\n",
    "* can only apply functions column-by-column (no cross-column logic)\n",
    "* can only return scalar values per column\n",
    "* can't create new columns from cross-column logic"
   ]
  },
  {
   "cell_type": "code",
   "execution_count": null,
   "metadata": {},
   "outputs": [],
   "source": [
    "df = sales.groupby(by='product_line')[['unit_price', 'quantity', 'product']].agg(custom_summary)\n",
    "\n",
    "print(type(df))\n",
    "df"
   ]
  },
  {
   "cell_type": "markdown",
   "metadata": {},
   "source": [
    "We can achive the same output, however, by performing a separate `groupby().agg` to get the `total_sales`, and a `groupby().idxmax()` to get the `best_seller` product like so:"
   ]
  },
  {
   "cell_type": "code",
   "execution_count": null,
   "metadata": {},
   "outputs": [],
   "source": [
    "sales_new = sales.copy()\n",
    "sales_new['total_sales'] = sales_new['unit_price'] * sales_new['quantity']\n",
    "\n",
    "# Get the \n",
    "df = sales_new.groupby(by='product_line')[['total_sales']].agg('sum')\n",
    "\n",
    "# Get the row wih max sales for each product_line\n",
    "idx = sales_new.groupby('product_line')['total_sales'].idxmax()\n",
    "df['best_seller'] = sales_new.loc[idx, 'product'].values\n",
    "\n",
    "print(type(df))\n",
    "df"
   ]
  },
  {
   "cell_type": "markdown",
   "metadata": {},
   "source": [
    "Let's compare the processing time of these 2 implementations:"
   ]
  },
  {
   "cell_type": "code",
   "execution_count": null,
   "metadata": {},
   "outputs": [],
   "source": [
    "%%timeit\n",
    "df = sales.groupby(by='product_line')[['unit_price', 'quantity', 'product']].apply(custom_summary)"
   ]
  },
  {
   "cell_type": "code",
   "execution_count": null,
   "metadata": {},
   "outputs": [],
   "source": [
    "%%timeit\n",
    "sales_new = sales.copy()\n",
    "sales_new['total_sales'] = sales_new['unit_price'] * sales_new['quantity']\n",
    "\n",
    "# Get the \n",
    "df = sales_new.groupby(by='product_line')[['total_sales']].agg('sum')\n",
    "\n",
    "# Get the row wih max sales for each product_line\n",
    "idx = sales_new.groupby('product_line')['total_sales'].idxmax()\n",
    "df['best_seller'] = sales_new.loc[idx, 'product'].values"
   ]
  },
  {
   "cell_type": "markdown",
   "metadata": {},
   "source": [
    "Amazingly, the `agg` and `idxmax` implementation performed faster than `apply` to return the custom summary data."
   ]
  },
  {
   "cell_type": "markdown",
   "metadata": {},
   "source": [
    "# Summary\n",
    "Summarizing the results at this point,"
   ]
  },
  {
   "cell_type": "markdown",
   "metadata": {},
   "source": [
    "| Application                       | Apply  | Agg     |\n",
    "| --------------------------------- | ------ | ------- |\n",
    "| Single function on a DataFrame    | ❌Slower | ✅Faster  |\n",
    "| Multiple functions on a DataFrame | Allowed/possible (as of Pandas 2.2.3)<br>❌But slower | ✅Faster  |\n",
    "| Single function on a GroupBy object | ✅Slightly faster | ✅Slightly slower  |\n",
    "| Multiple functions on a GroupBy object | ❌Not allowed/possible<br>(as of Pandas 2.2.3) | ✅Allowed  |\n",
    "| Custom cross-column summary statistics | ✅Intuitive<br>❌But slow | ❌Non-intuitive: Needs slightly complex work-around<br>✅But faster |"
   ]
  },
  {
   "cell_type": "markdown",
   "metadata": {},
   "source": [
    "# Conclusion"
   ]
  },
  {
   "cell_type": "markdown",
   "metadata": {},
   "source": [
    "In general, we conclude the following:\n",
    "\n",
    "| Aspect              | Apply            | Agg              |\n",
    "| ------------------- | ---------------- | ---------------- |\n",
    "| Performance<br>(Speed and Optimization) | ❌Generally slower | ✅Generally faster |\n",
    "| Application of multiple functions per column | ✅Allowed only on DataFrame,<br>❌Not allowed on GroupBy | ✅Allowed |\n",
    "| Function return value | ✅Accepts functions with return types of any shape (scalar, DataFrame, Series) | ❌Only functions that return scalar values are allowed |\n",
    "| Custom logic operating on multiple columns | ✅Intuitive implementation<br>❌But slow | ❌Relatively complex implementation<br>✅But faster | \n"
   ]
  },
  {
   "cell_type": "markdown",
   "metadata": {},
   "source": [
    "# Credits\n",
    "_Notebook prepared by: Jessa Rili-Migriño ([LinkedIn](https://www.linkedin.com/in/jessa-rili-migrino))_\n",
    "\n",
    "* DataCamp, for the [Data Manipulation Practice Problem](https://practice.datacamp.com/p/513) that brought on the questions that needed to be answered through this notebook"
   ]
  },
  {
   "cell_type": "markdown",
   "metadata": {},
   "source": []
  }
 ],
 "metadata": {
  "kernelspec": {
   "display_name": "Python 3",
   "language": "python",
   "name": "python3"
  },
  "language_info": {
   "codemirror_mode": {
    "name": "ipython",
    "version": 3
   },
   "file_extension": ".py",
   "mimetype": "text/x-python",
   "name": "python",
   "nbconvert_exporter": "python",
   "pygments_lexer": "ipython3",
   "version": "3.13.0"
  }
 },
 "nbformat": 4,
 "nbformat_minor": 2
}
